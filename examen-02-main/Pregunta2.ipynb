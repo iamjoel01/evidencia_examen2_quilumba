{
 "cells": [
  {
   "cell_type": "markdown",
   "id": "6361581a-5683-4369-8728-a9e50b944fef",
   "metadata": {},
   "source": [
    "# P2\n",
    "# Nombre: Joel Quilumba"
   ]
  },
  {
   "cell_type": "code",
   "execution_count": null,
   "id": "9b93c16f-732d-457c-8ff7-77df9da5a512",
   "metadata": {},
   "outputs": [],
   "source": [
    "from scipy import optimize\n",
    "\n",
    "def f(x):\n",
    "    return (x**5 - 6*x**4 + 2*x**3 + 20*x**2 - 27*x + 10)\n",
    "\n",
    "initial_guesses = [-10, -5, -2, -1, 0, 1, 2, 5, 10]\n",
    "root = optimize.fsolve(f, initial_guesses)\n",
    "unica_solucion = sorted(set(round(root, 5) for root in roots))\n",
    "print(\"Las raíces del polinomio son:\", unica_solucion)"
   ]
  }
 ],
 "metadata": {
  "kernelspec": {
   "display_name": "Python 3 (ipykernel)",
   "language": "python",
   "name": "python3"
  },
  "language_info": {
   "codemirror_mode": {
    "name": "ipython",
    "version": 3
   },
   "file_extension": ".py",
   "mimetype": "text/x-python",
   "name": "python",
   "nbconvert_exporter": "python",
   "pygments_lexer": "ipython3",
   "version": "3.11.7"
  }
 },
 "nbformat": 4,
 "nbformat_minor": 5
}
